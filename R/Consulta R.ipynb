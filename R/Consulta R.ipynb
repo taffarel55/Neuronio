{
 "cells": [
  {
   "cell_type": "markdown",
   "id": "b50035f9-f563-45ae-8efe-fbb0bdb4fef6",
   "metadata": {},
   "source": [
    "# Consulta linguagem R"
   ]
  },
  {
   "cell_type": "markdown",
   "id": "d52cc094-bedd-4937-8572-6cac06afe546",
   "metadata": {},
   "source": [
    "## Variáveis"
   ]
  },
  {
   "cell_type": "markdown",
   "id": "6772bad7-fb6c-48f6-b9ac-19919bcf2e0f",
   "metadata": {},
   "source": [
    "### Nomenclatura de variáveis:"
   ]
  },
  {
   "cell_type": "markdown",
   "id": "ce34734a-b6c8-44d0-9f35-32835b072f8f",
   "metadata": {},
   "source": [
    "Nomenclaturas permitidas:"
   ]
  },
  {
   "cell_type": "code",
   "execution_count": 1,
   "id": "b146cf68-26a1-492b-baeb-6c165154d307",
   "metadata": {},
   "outputs": [],
   "source": [
    "var <- 1\n",
    "var1 <- 2\n",
    "x_var <- 3\n",
    "x.var <- 4"
   ]
  },
  {
   "cell_type": "markdown",
   "id": "782b78e4-eebc-4955-bd4f-b2c22f357926",
   "metadata": {},
   "source": [
    "Nomenclaturas não permitidas:"
   ]
  },
  {
   "cell_type": "code",
   "execution_count": 2,
   "id": "acaca1a4-1ee8-49be-9ddd-4cea4cd0f2ee",
   "metadata": {},
   "outputs": [
    {
     "ename": "ERROR",
     "evalue": "Error in parse(text = x, srcfile = src): <text>:1:2: unexpected symbol\n1: 1var\n     ^\n",
     "output_type": "error",
     "traceback": [
      "Error in parse(text = x, srcfile = src): <text>:1:2: unexpected symbol\n1: 1var\n     ^\nTraceback:\n"
     ]
    }
   ],
   "source": [
    "1var <- 1\n",
    "_var <- 2\n",
    "x-var <- 3"
   ]
  },
  {
   "cell_type": "markdown",
   "id": "eed8e8b1-5ec2-44f0-9511-38790535e5a9",
   "metadata": {},
   "source": [
    "### Declaração de variáveis"
   ]
  },
  {
   "cell_type": "code",
   "execution_count": 3,
   "id": "b5a8e156-b88c-483d-ae16-8187fc234d1e",
   "metadata": {},
   "outputs": [],
   "source": [
    "nome <- \"Ana\"\n",
    "num <- 2L\n",
    "controle <- TRUE"
   ]
  },
  {
   "cell_type": "markdown",
   "id": "a1c48dbd-2a91-498e-ae9c-1bb004ab9f6c",
   "metadata": {},
   "source": [
    "### Tipos de variáveis"
   ]
  },
  {
   "cell_type": "markdown",
   "id": "b5c68bd3-1f27-44b9-95a4-2d4a71f0a048",
   "metadata": {},
   "source": [
    "- Logical: TRUE, T, FALSE ou F\n",
    "- Double: 0.5, 1, 1.8, 10, 22.7, 45, 89.9 ···\n",
    "- Character: Anna, Scott, June, Emma, Shaun ···\n",
    "- Complex: 2 + 3i, -5 - 7i, 95 - 17i, 43 + 2i, -18 + 9i ···\n",
    "- Integer: 1L, -2L, -15L, 50L, 97L, 150L ···"
   ]
  },
  {
   "cell_type": "markdown",
   "id": "1374925f-51ac-48f0-aa8f-4aae9b0bb6b5",
   "metadata": {},
   "source": [
    "### Verificar tipo de variável"
   ]
  },
  {
   "cell_type": "markdown",
   "id": "102516a8-05c3-44da-b236-438c9a320ed9",
   "metadata": {},
   "source": [
    "- Inteiro: is.integer()\n",
    "- Double: is.double()\n",
    "- Complexo: is.complex()\n",
    "- Caractere: is.character()\n",
    "- Lógico: is.logical()"
   ]
  },
  {
   "cell_type": "markdown",
   "id": "8463d912-f946-46d5-890c-2b49881fb099",
   "metadata": {},
   "source": [
    "### Conversão de dados"
   ]
  },
  {
   "cell_type": "markdown",
   "id": "2a806b20-315e-4158-9326-b4fe2e295114",
   "metadata": {},
   "source": [
    "- Inteiro: as.integer()\n",
    "- Double: as.double()\n",
    "- Caractere: as.character()\n",
    "- Complexo: as.complex()"
   ]
  },
  {
   "cell_type": "markdown",
   "id": "481506e6-ebac-4df8-aa5f-3d3f57103af9",
   "metadata": {},
   "source": [
    "## Entrada e saída de dados"
   ]
  },
  {
   "cell_type": "markdown",
   "id": "94a29343-ee4a-4e8c-9b7e-cb8efd228e28",
   "metadata": {},
   "source": [
    "### Saída de dados"
   ]
  },
  {
   "cell_type": "code",
   "execution_count": 4,
   "id": "9082d6bf-e831-41a5-823a-c633cb4a10f8",
   "metadata": {},
   "outputs": [
    {
     "name": "stdout",
     "output_type": "stream",
     "text": [
      "[1] \"Hello World!\"\n"
     ]
    }
   ],
   "source": [
    "print('Hello World!');"
   ]
  },
  {
   "cell_type": "markdown",
   "id": "0db2c071-a279-4bcc-a256-941502b827f2",
   "metadata": {},
   "source": [
    "Para concatenar dados com o `print`:"
   ]
  },
  {
   "cell_type": "code",
   "execution_count": 5,
   "id": "d08d9ef3-15d9-4efe-a543-8f8f9ac43664",
   "metadata": {},
   "outputs": [
    {
     "name": "stdout",
     "output_type": "stream",
     "text": [
      "[1] \"2+3 =  5\"\n"
     ]
    }
   ],
   "source": [
    "conta <- paste('2+3 = ', 2+3);\n",
    "print(conta);"
   ]
  },
  {
   "cell_type": "markdown",
   "id": "688f1a9d-5a22-489b-ae8c-daf5bbb635b1",
   "metadata": {},
   "source": [
    "O `cat` já pode concatenar:"
   ]
  },
  {
   "cell_type": "code",
   "execution_count": 6,
   "id": "87f0b836-ade4-4872-8884-b3a063695ffd",
   "metadata": {},
   "outputs": [
    {
     "name": "stdout",
     "output_type": "stream",
     "text": [
      "2+3 =  5"
     ]
    }
   ],
   "source": [
    "cat('2+3 = ', 2+3)"
   ]
  },
  {
   "cell_type": "markdown",
   "id": "aa5d5ccc-ec2f-43ae-8eec-eb3b62e6649a",
   "metadata": {},
   "source": [
    "### Entrada de dados"
   ]
  },
  {
   "cell_type": "markdown",
   "id": "d9e4c293-f074-4723-aa2d-8fb96b8a78ce",
   "metadata": {},
   "source": [
    "A função `readline()` pode ser usada com ou sem string de mensagem, sem msg:"
   ]
  },
  {
   "cell_type": "code",
   "execution_count": 7,
   "id": "b3be52b4-782b-4ac1-809d-1f18a3652109",
   "metadata": {},
   "outputs": [
    {
     "name": "stdin",
     "output_type": "stream",
     "text": [
      " 7\n"
     ]
    }
   ],
   "source": [
    "dado <- as.integer(readline())"
   ]
  },
  {
   "cell_type": "markdown",
   "id": "a4bc9991-54e7-415f-961c-c0fba553de06",
   "metadata": {},
   "source": [
    "Com mensagem:"
   ]
  },
  {
   "cell_type": "code",
   "execution_count": 8,
   "id": "7effce72-def1-4947-a910-fa0e06018374",
   "metadata": {},
   "outputs": [
    {
     "name": "stdin",
     "output_type": "stream",
     "text": [
      "Insira um número:  8\n"
     ]
    }
   ],
   "source": [
    "dado <- as.integer(readline(\"Insira um número: \"))"
   ]
  },
  {
   "cell_type": "markdown",
   "id": "cc5fe6dc-bdce-4d0c-a643-b3555c5e738e",
   "metadata": {},
   "source": [
    "E a função `readLines(n=X)` lê um número **X** de entradas."
   ]
  },
  {
   "cell_type": "code",
   "execution_count": 9,
   "id": "7fbdcf38-2158-406d-820f-f69cf33bd0a2",
   "metadata": {},
   "outputs": [],
   "source": [
    "entradas <- readLines(n=12) # Aparentemente não funfa no jupyter"
   ]
  },
  {
   "cell_type": "markdown",
   "id": "1d1b2c83-2c80-40ed-b63b-dcccf2cec50c",
   "metadata": {},
   "source": [
    "Com a função `scan()` os valores são inseridos seguidos de enter, e o último com dois enters:"
   ]
  },
  {
   "cell_type": "code",
   "execution_count": 10,
   "id": "abbffa87-d045-4e43-a7d8-af0d4e90bbc6",
   "metadata": {},
   "outputs": [],
   "source": [
    "entradas <- scan() # Aparentemente não funfa no jupyter"
   ]
  },
  {
   "cell_type": "markdown",
   "id": "4c80ef00-b028-4872-abdc-ee7c612659f5",
   "metadata": {},
   "source": [
    "## Operadores"
   ]
  },
  {
   "cell_type": "markdown",
   "id": "e983b39c-4962-4e23-bc7a-c2a287c53a83",
   "metadata": {},
   "source": [
    "### Operadores Aritméticos"
   ]
  },
  {
   "cell_type": "markdown",
   "id": "e576ca40-1ec1-42a3-b53f-3f28b6ff0ebc",
   "metadata": {},
   "source": [
    "| Operação | Operador |\n",
    "| :-: | :-: | \n",
    "| Soma | + |\n",
    "| Subtração | - |\n",
    "| Multiplicação | * |\n",
    "| Divisão | / |\n",
    "| Potência | ^ ou ** |\n",
    "| Resto | %% |\n",
    "| Parte inteira da divisão | %/% |"
   ]
  },
  {
   "cell_type": "markdown",
   "id": "b195aa45-e30b-4339-ad17-2d74c2139a07",
   "metadata": {},
   "source": [
    "#### Números complexos:"
   ]
  },
  {
   "cell_type": "markdown",
   "id": "0d3ceaeb-1663-4cd2-99f9-ecb1a79ac68c",
   "metadata": {},
   "source": [
    "- Re(x), determina a parte real do número\n",
    "- Im(x), determina a parte imaginária do número\n",
    "- Mod(x), determina o módulo do número\n",
    "- Conj(x), determina o conjugado do número\n",
    "- Arg(x), determina o argumento do número"
   ]
  },
  {
   "cell_type": "markdown",
   "id": "fc92e0dd-6b93-4458-8dc8-682a1ee33f44",
   "metadata": {},
   "source": [
    "#### Funções matemáticas:"
   ]
  },
  {
   "cell_type": "markdown",
   "id": "77e5ed36-a806-4bc2-8c5c-1a20e5ce37a7",
   "metadata": {},
   "source": [
    "- log(x, base = y), retorna o log do número na base desejada\n",
    "- exp(x), retorna o valor do exponencial elevado ao número desejado\n",
    "- abs(x), retorna o valor absoluto do número\n",
    "- sqrt(x), retorna a raiz do número informado\n",
    "- factorial(x), retorna o fatorial do número informado\n",
    "- sum(x1, x2, ···), retorna a soma dos números informados\n",
    "- sign(x), retorna 1, -1 ou 0\n",
    "    * 1 indica número positivo\n",
    "    * -1 indica número negativo\n",
    "    * 0 indica que o número possui o valor 0"
   ]
  },
  {
   "cell_type": "markdown",
   "id": "5acb5af8-ab99-4a8a-b65f-4e7b2a2a8b96",
   "metadata": {},
   "source": [
    "#### Funções estatísticas:"
   ]
  },
  {
   "cell_type": "markdown",
   "id": "56f54645-141b-4570-9ca3-e0757040ae52",
   "metadata": {},
   "source": [
    "- mean(x), retorna a média dos valores\n",
    "- var(x), retorna a variância dos valores\n",
    "- sd(x), retorna o desvio padrão amostral dos valores\n",
    "- quantile(x), retorna os quantis dos valores"
   ]
  },
  {
   "cell_type": "markdown",
   "id": "a4f0dc4a-8a08-488c-b480-f507e08d7f38",
   "metadata": {},
   "source": [
    "#### Funções trigonométricas"
   ]
  },
  {
   "cell_type": "markdown",
   "id": "0d0c88f9-19c6-4191-b326-cfc6017c29da",
   "metadata": {},
   "source": [
    "- sin(), função seno.\n",
    "- sinh(), função seno hiperbólico.\n",
    "- asin(), função arco seno, retorna o valor em radianos.\n",
    "- asinh(), função arco seno hiperbólico.\n",
    "- cos(), função cosseno.\n",
    "- cosh(), função cosseno hiperbólico.\n",
    "- acos(), função arco cosseno, retorna o valor em radianos.\n",
    "- acosh(), função arco cosseno hiperbólico.\n",
    "- tan(), função tangente.\n",
    "- tanh(), função tangente hiperbólica.\n",
    "- atan(), função arco tangente, retorna o valor em radianos.\n",
    "- atanh(), função arco tangente hiperbólica."
   ]
  },
  {
   "cell_type": "markdown",
   "id": "22497dd1-c68a-43d1-9ff4-1c315714d88e",
   "metadata": {},
   "source": [
    "### Operadores Lógicos e Operadores de Comparação"
   ]
  },
  {
   "cell_type": "markdown",
   "id": "d56dc312-eab2-4d95-b549-582a7e152913",
   "metadata": {},
   "source": [
    "#### Operadores Lógicos"
   ]
  },
  {
   "cell_type": "markdown",
   "id": "068b8ac2-3e6d-4ccb-9a45-4805566d8596",
   "metadata": {},
   "source": [
    "| Operação | Operador |\n",
    "| :-: | :-: | \n",
    "| E | && ou & |\n",
    "| Ou | || ou | |\n",
    "| Negação | ! |\n",
    "| Ou exclusivo | xor(x,y) |"
   ]
  },
  {
   "cell_type": "markdown",
   "id": "d39382fd-2b3d-429f-a3e9-77509670f316",
   "metadata": {},
   "source": [
    "#### Operadores de comparação:"
   ]
  },
  {
   "cell_type": "markdown",
   "id": "6e2fafc5-df00-4d50-bf82-3fc6a0c270ed",
   "metadata": {},
   "source": [
    "| Operação | Operador |\n",
    "| :-: | :-: | \n",
    "| Igual | == |\n",
    "| Diferente | != |\n",
    "| Maior que | > |\n",
    "| Menor que | < |\n",
    "| Maior ou igual | >= |\n",
    "| Menor ou igual | <= |"
   ]
  },
  {
   "cell_type": "markdown",
   "id": "0591c469-7f07-4b25-ab04-25db82c77db0",
   "metadata": {},
   "source": [
    "O operador `%in%` pode verificar um elemento de um vetor:"
   ]
  },
  {
   "cell_type": "code",
   "execution_count": 11,
   "id": "534edf71-d0a2-40ad-83b8-678f23c99743",
   "metadata": {},
   "outputs": [
    {
     "data": {
      "text/html": [
       "TRUE"
      ],
      "text/latex": [
       "TRUE"
      ],
      "text/markdown": [
       "TRUE"
      ],
      "text/plain": [
       "[1] TRUE"
      ]
     },
     "metadata": {},
     "output_type": "display_data"
    },
    {
     "data": {
      "text/html": [
       "FALSE"
      ],
      "text/latex": [
       "FALSE"
      ],
      "text/markdown": [
       "FALSE"
      ],
      "text/plain": [
       "[1] FALSE"
      ]
     },
     "metadata": {},
     "output_type": "display_data"
    }
   ],
   "source": [
    "alfabeto <- letters\n",
    "'t' %in% alfabeto\n",
    "'7' %in% alfabeto"
   ]
  },
  {
   "cell_type": "markdown",
   "id": "48deec87-73ad-49ef-b254-79890c6c6aea",
   "metadata": {},
   "source": [
    "## Estruturas condicionais"
   ]
  },
  {
   "cell_type": "markdown",
   "id": "073d02a7-8ed5-46da-bf8b-768e91b716c7",
   "metadata": {},
   "source": [
    "Segue a sintaxe clássica:\n"
   ]
  },
  {
   "cell_type": "code",
   "execution_count": 12,
   "id": "e5ec2e60-3a72-4816-9473-a69c02e4bde2",
   "metadata": {},
   "outputs": [
    {
     "name": "stdout",
     "output_type": "stream",
     "text": [
      "[1] \"2 é maior que 1\"\n"
     ]
    }
   ],
   "source": [
    "if (2>1) {\n",
    "    print('2 é maior que 1');\n",
    "}"
   ]
  },
  {
   "cell_type": "code",
   "execution_count": 13,
   "id": "025efb44-80c2-4e58-828a-8dd87a279bf9",
   "metadata": {},
   "outputs": [
    {
     "name": "stdout",
     "output_type": "stream",
     "text": [
      "[1] \"2 é maior que 1\"\n"
     ]
    }
   ],
   "source": [
    "if (2<1) {\n",
    "    print('2 é menor que 1');\n",
    "} else {\n",
    "    print('2 é maior que 1');\n",
    "}"
   ]
  },
  {
   "cell_type": "code",
   "execution_count": 14,
   "id": "1f2a7472-fe57-4c1a-a3a8-3cf6f67a711c",
   "metadata": {},
   "outputs": [
    {
     "name": "stdout",
     "output_type": "stream",
     "text": [
      "[1] \"1 não é maior que 2, nem 3\"\n"
     ]
    }
   ],
   "source": [
    "if (2<1) {\n",
    "    print('2 é menor que 1');\n",
    "} else if(3<1) {\n",
    "    print('3 é maior que 1');\n",
    "} else {\n",
    "    print('1 não é maior que 2, nem 3');\n",
    "}"
   ]
  },
  {
   "cell_type": "markdown",
   "id": "e8d1fb8c-8d8b-4fec-b388-ef981d41cb17",
   "metadata": {},
   "source": [
    "## Estruturas de Repetição"
   ]
  },
  {
   "cell_type": "markdown",
   "id": "60985725-8fc0-491e-ad93-5dd4dde798bf",
   "metadata": {},
   "source": [
    "### for"
   ]
  },
  {
   "cell_type": "markdown",
   "id": "20a22dac-b64d-4a2a-b8ca-e6bce7a5a6c8",
   "metadata": {},
   "source": [
    "Incremento 1:"
   ]
  },
  {
   "cell_type": "code",
   "execution_count": 15,
   "id": "65e55145-b9d6-490b-ae70-0e06cce9d2d3",
   "metadata": {},
   "outputs": [
    {
     "name": "stdout",
     "output_type": "stream",
     "text": [
      "[1] 1\n",
      "[1] 2\n",
      "[1] 3\n",
      "[1] 4\n",
      "[1] 5\n",
      "[1] 6\n",
      "[1] 7\n",
      "[1] 8\n",
      "[1] 9\n",
      "[1] 10\n"
     ]
    }
   ],
   "source": [
    "for(i in 1:10){\n",
    "    print(i)\n",
    "}"
   ]
  },
  {
   "cell_type": "markdown",
   "id": "dec82a81-0973-4efb-b2c9-eca41e120cec",
   "metadata": {},
   "source": [
    "Incremento 2 ou n:"
   ]
  },
  {
   "cell_type": "code",
   "execution_count": 16,
   "id": "09ec1eed-4709-4821-ae1c-9ec26f733b47",
   "metadata": {},
   "outputs": [
    {
     "name": "stdout",
     "output_type": "stream",
     "text": [
      "[1] 0\n",
      "[1] 2\n",
      "[1] 4\n",
      "[1] 6\n",
      "[1] 8\n",
      "[1] 10\n"
     ]
    }
   ],
   "source": [
    "for(i in seq(0,10,2)){\n",
    "    print(i)\n",
    "}"
   ]
  },
  {
   "cell_type": "markdown",
   "id": "afd44341-e43f-44a6-9fc6-040a1ee960cf",
   "metadata": {},
   "source": [
    "### while"
   ]
  },
  {
   "cell_type": "code",
   "execution_count": 17,
   "id": "ba054e28-69cf-4cdb-a237-0ddfd93f7178",
   "metadata": {},
   "outputs": [
    {
     "name": "stdout",
     "output_type": "stream",
     "text": [
      "[1] 0\n",
      "[1] 1\n",
      "[1] 2\n",
      "[1] 3\n",
      "[1] 4\n",
      "[1] 5\n",
      "[1] 6\n",
      "[1] 7\n",
      "[1] 8\n",
      "[1] 9\n",
      "[1] 10\n"
     ]
    }
   ],
   "source": [
    "i <- 0;\n",
    "while(i <= 10) {\n",
    "    print(i);\n",
    "    i <- i + 1;\n",
    "}"
   ]
  },
  {
   "cell_type": "markdown",
   "id": "ab79a159-d02f-41de-8348-ea8c655b8d73",
   "metadata": {},
   "source": [
    "## Vetores e listas"
   ]
  },
  {
   "cell_type": "markdown",
   "id": "411921a6-6887-468c-8413-9ba0a62ae2fe",
   "metadata": {},
   "source": [
    "### Declaração de vetores"
   ]
  },
  {
   "cell_type": "markdown",
   "id": "e7f59d06-cc7e-40c5-9b4d-ecf495d7de6e",
   "metadata": {},
   "source": [
    "#### `c()`:"
   ]
  },
  {
   "cell_type": "code",
   "execution_count": 18,
   "id": "f0117e4c-1522-43c1-8e75-ac3695d6264a",
   "metadata": {},
   "outputs": [
    {
     "name": "stdout",
     "output_type": "stream",
     "text": [
      " [1]  0  1  2  3  4  5  6  7  8  9 10\n"
     ]
    }
   ],
   "source": [
    "vetor1 <- c(0:10)\n",
    "print(vetor1)"
   ]
  },
  {
   "cell_type": "markdown",
   "id": "756e77fd-edcf-4cd7-b6c7-8e7e2c1d49af",
   "metadata": {},
   "source": [
    "#### `seq()`:"
   ]
  },
  {
   "cell_type": "code",
   "execution_count": 19,
   "id": "9c67fae5-652f-425f-99bc-43469535cf79",
   "metadata": {},
   "outputs": [
    {
     "name": "stdout",
     "output_type": "stream",
     "text": [
      "[1] 0.0 1.5 3.0 4.5 6.0 7.5 9.0\n"
     ]
    }
   ],
   "source": [
    "vetor2 <- seq(0,10,1.5)\n",
    "print(vetor2)"
   ]
  },
  {
   "cell_type": "markdown",
   "id": "4c24367f-6594-40dc-8f87-d6367c1d5c49",
   "metadata": {},
   "source": [
    "#### `runif()`:"
   ]
  },
  {
   "cell_type": "code",
   "execution_count": 20,
   "id": "d8b7701f-58d1-41e7-8c24-600c2abeceec",
   "metadata": {},
   "outputs": [
    {
     "name": "stdout",
     "output_type": "stream",
     "text": [
      " [1] 0.78670239 0.27386854 0.18917387 0.76264894 0.32290369 0.08767769\n",
      " [7] 0.60942574 0.40072889 0.83366600 0.22015655\n"
     ]
    }
   ],
   "source": [
    "vetor3 <- runif(10,0,1);\n",
    "print(vetor3)"
   ]
  },
  {
   "cell_type": "markdown",
   "id": "f2aee092-86ae-41f3-9d01-e668d4aa11b3",
   "metadata": {},
   "source": [
    "#### `rep()`:"
   ]
  },
  {
   "cell_type": "code",
   "execution_count": 21,
   "id": "2f189436-02e1-4223-b025-d5fa78797e0f",
   "metadata": {},
   "outputs": [
    {
     "name": "stdout",
     "output_type": "stream",
     "text": [
      "[1] \"Hello!\" \"Hello!\" \"Hello!\"\n"
     ]
    }
   ],
   "source": [
    "vetor4 <- rep('Hello!',3)\n",
    "print(vetor4)"
   ]
  },
  {
   "cell_type": "markdown",
   "id": "a3494038-8b7e-4c2c-b647-5f4fd3ab25a2",
   "metadata": {},
   "source": [
    "#### `início:fim:`"
   ]
  },
  {
   "cell_type": "code",
   "execution_count": 22,
   "id": "767e6db9-033c-4f5a-a9a5-532b8a857e8d",
   "metadata": {},
   "outputs": [
    {
     "name": "stdout",
     "output_type": "stream",
     "text": [
      " [1]  1  2  3  4  5  6  7  8  9 10\n"
     ]
    }
   ],
   "source": [
    "vetor5 <- 1:10;\n",
    "print(vetor5)"
   ]
  },
  {
   "cell_type": "markdown",
   "id": "634445b4-50ae-4552-85c0-a11c00c8f949",
   "metadata": {},
   "source": [
    "### Operações com vetores"
   ]
  },
  {
   "cell_type": "markdown",
   "id": "e9d1b410-fa51-4870-bcf7-da4c3b4a96d0",
   "metadata": {},
   "source": [
    "- max(vetor), retorna o maior valor do vetor.\n",
    "- min(vetor), retorna o menor valor do vetor.\n",
    "- sum(vetor), retorna a soma dos valores do vetor.\n",
    "- prod(vetor), retorna o produto dos valores do vetor.\n",
    "- length(vetor), retorna o comprimento do vetor.\n",
    "- cumsum(vetor), retorna a soma acumulada dos valores do vetor.\n",
    "- cumprod(vetor), retorna o produto acumulado dos valores do vetor.\n",
    "- mean(vetor), retorna a média dos valores do vetor.\n",
    "- var(vetor), retorna a variância dos valores do vetor.\n",
    "- sd(vetor), retorna o desvio padrão dos valores do vetor.\n",
    "- median(vetor), retorna a mediana do vetor.\n",
    "- summary(vetor), retorna dados estatísticos sobre o vetor.\n",
    "- sort(vetor), retorna o vetor ordenado, para ordenar em ordem decrescente deve-se\n",
    "acrescentar o parâmetro “decreasing = T” ou “decreasing = TRUE”.\n",
    "- range(vetor), retorna o menor e o maior valor do vetor.\n",
    "- vetor[posição] <- dado, altera o valor de uma posição específica no vetor\n",
    "- Soma, subtração, multiplicação e divisão:\n",
    "    - Com um valor\n",
    "        * vetor <- vetor + valor\n",
    "        * vetor <- vetor - valor\n",
    "        * vetor <- vetor * valor\n",
    "        * vetor <- vetor / valor\n",
    "    - Entre vetores\n",
    "        * vetor <- vetor1 + vetor2\n",
    "        * vetor <- vetor1 - vetor2\n",
    "        * vetor <- vetor1 * vetor2\n",
    "        * vetor <- vetor1 / vetor2\n",
    "        \n",
    "        Obs.: Se os vetores possuírem tamanhos diferentes os valores passarão a ser repetidos no vetor de menor comprimento até igualar seu tamanho com o vetor de maior comprimento. No entanto, isto só ocorre para realizar a divisão, sendo assim, a quantidade de valores presentes no vetor de comprimento não será alterada após a operação."
   ]
  },
  {
   "cell_type": "markdown",
   "id": "49279e4f-b038-46ca-b4d9-4df3ab0eac23",
   "metadata": {},
   "source": [
    "### Listas"
   ]
  },
  {
   "cell_type": "code",
   "execution_count": 23,
   "id": "eb1d3071-83a6-4e48-837c-7da5fb44fc71",
   "metadata": {},
   "outputs": [
    {
     "name": "stdout",
     "output_type": "stream",
     "text": [
      "[[1]]\n",
      "[1] 1\n",
      "\n",
      "[[2]]\n",
      "[1] TRUE\n",
      "\n",
      "[[3]]\n",
      "[1] \"Maurício\"\n",
      "\n",
      "[[4]]\n",
      "[1] 3+5i\n",
      "\n",
      "[[5]]\n",
      "[1] 2\n",
      "\n"
     ]
    }
   ],
   "source": [
    "lista <- list(1, TRUE, 'Maurício', 3+5i, 2L)\n",
    "print(lista)"
   ]
  },
  {
   "cell_type": "markdown",
   "id": "693a8373-3388-4625-ba96-beae444cd848",
   "metadata": {},
   "source": [
    "## Matrizes"
   ]
  },
  {
   "cell_type": "markdown",
   "id": "a1d4d402-1519-4c5a-8249-afffb340f2fe",
   "metadata": {},
   "source": [
    "### Declaração de matrizes:"
   ]
  },
  {
   "cell_type": "markdown",
   "id": "363d7b21-4294-4a85-9fc7-881334cce2cb",
   "metadata": {},
   "source": [
    "#### `matrix()`:"
   ]
  },
  {
   "cell_type": "code",
   "execution_count": 24,
   "id": "c29fa425-ad46-4705-ade3-0782ee38fbfe",
   "metadata": {},
   "outputs": [
    {
     "name": "stdout",
     "output_type": "stream",
     "text": [
      "     [,1] [,2] [,3] [,4] [,5]\n",
      "[1,]    1    2    3    4    5\n",
      "[2,]    6    7    8    9   10\n",
      "[3,]   11   12   13   14   15\n"
     ]
    }
   ],
   "source": [
    "matriz <- matrix(1:15, 3, 5, T)\n",
    "print(matriz)"
   ]
  },
  {
   "cell_type": "markdown",
   "id": "0f7bfba6-3ff5-46dc-b5ea-6ecb21b89459",
   "metadata": {},
   "source": [
    "#### `rbind()`:"
   ]
  },
  {
   "cell_type": "code",
   "execution_count": 25,
   "id": "e46c1b64-aac6-468e-9ca1-3fc8e1fb7f4c",
   "metadata": {},
   "outputs": [
    {
     "name": "stdout",
     "output_type": "stream",
     "text": [
      "       [,1] [,2] [,3] [,4] [,5]\n",
      "vetor1    1    2    3    4    5\n",
      "vetor2    6    7    8    9   10\n",
      "vetor3   11   12   13   14   15\n"
     ]
    }
   ],
   "source": [
    "vetor1 <- 1:5\n",
    "vetor2 <- 6:10\n",
    "vetor3 <- 11:15\n",
    "matriz <- rbind(vetor1,vetor2, vetor3)\n",
    "print(matriz)"
   ]
  },
  {
   "cell_type": "markdown",
   "id": "632ca8c6-06e6-4cd8-a368-4cbcdeaaab70",
   "metadata": {},
   "source": [
    "#### `cbind()`:"
   ]
  },
  {
   "cell_type": "code",
   "execution_count": 26,
   "id": "04d04d9c-3dfb-4b76-adee-5fbaf7aa8353",
   "metadata": {},
   "outputs": [
    {
     "name": "stdout",
     "output_type": "stream",
     "text": [
      "     vetor1 vetor2 vetor3\n",
      "[1,]      1      6     11\n",
      "[2,]      2      7     12\n",
      "[3,]      3      8     13\n",
      "[4,]      4      9     14\n",
      "[5,]      5     10     15\n"
     ]
    }
   ],
   "source": [
    "vetor1 <- 1:5\n",
    "vetor2 <- 6:10\n",
    "vetor3 <- 11:15\n",
    "matriz <- cbind(vetor1,vetor2, vetor3)\n",
    "print(matriz)"
   ]
  },
  {
   "cell_type": "markdown",
   "id": "ce0a84ea-6d52-4c03-9e11-094f1041b5d7",
   "metadata": {},
   "source": [
    "### Operações com matrizes"
   ]
  },
  {
   "cell_type": "markdown",
   "id": "e5b2e57c-28dc-428b-a3b2-d74ae2b538bd",
   "metadata": {},
   "source": [
    "- max(matriz), retorna o maior valor da matriz\n",
    "- min(matriz), retorna o menor valor da matriz\n",
    "- sum(matriz), retorna a soma dos valores da matriz\n",
    "- prod(matriz), retorna o produto dos valores da matriz\n",
    "- rowSums(matriz), retorna a soma das linhas da matriz\n",
    "- colSums(matriz), retorna a soma das colunas da matriz\n",
    "- rowMeans(matriz), retorna a média das linhas da matriz\n",
    "- colMeans(matriz), retorna a média das colunas da matriz\n",
    "- t(matriz), retorna a transposta da matriz\n",
    "- dim(matriz), retorna a dimensão da matriz\n",
    "- diag(matriz), retorna a diagonal da matriz\n",
    "- solve(matriz), retorna a inversa da matriz\n",
    "- det(matriz), retorna o determinante da matriz\n",
    "- matriz1%∗%matriz2, calcula a multiplicação entre matrizes\n",
    "- matriz[linha, coluna] <- dado, altera o valor de uma célula específica na matriz"
   ]
  },
  {
   "cell_type": "markdown",
   "id": "f8101096-b4b0-4b9f-937e-dedc48e819fd",
   "metadata": {},
   "source": [
    "## Funções"
   ]
  },
  {
   "cell_type": "code",
   "execution_count": 27,
   "id": "c085b011-8361-41dd-924b-ab0f0d04b273",
   "metadata": {},
   "outputs": [],
   "source": [
    "# nome <- function(parâmetros) {\n",
    "#    Comandos\n",
    "# }"
   ]
  },
  {
   "cell_type": "code",
   "execution_count": 28,
   "id": "277aca2d-d861-4c6e-a706-428024de29dc",
   "metadata": {},
   "outputs": [
    {
     "name": "stdin",
     "output_type": "stream",
     "text": [
      "Insira o número:  3\n"
     ]
    },
    {
     "name": "stdout",
     "output_type": "stream",
     "text": [
      "3 ^2= 9 \n"
     ]
    }
   ],
   "source": [
    "potencia <- function() {\n",
    "    numero <- as.integer(readline('Insira o número: '));\n",
    "    cat(numero, '^2=', numero**2, '\\n');\n",
    "}\n",
    "\n",
    "potencia()"
   ]
  },
  {
   "cell_type": "markdown",
   "id": "e4ca3a46-8706-4327-9502-610d2435eee3",
   "metadata": {},
   "source": [
    "## Gráficos:"
   ]
  },
  {
   "cell_type": "markdown",
   "id": "54bba52c-d5d9-4e37-bf6c-01a988a75732",
   "metadata": {},
   "source": [
    "### Gráficos simples"
   ]
  },
  {
   "cell_type": "markdown",
   "id": "fe1ec094-41df-4b7c-b1c1-949fd3191366",
   "metadata": {},
   "source": [
    "#### Exemplo 1:"
   ]
  },
  {
   "cell_type": "code",
   "execution_count": 29,
   "id": "c38ce69f-1e61-4c2c-9111-9c2453c94c62",
   "metadata": {},
   "outputs": [
    {
     "data": {
      "image/png": "[encoded data removed]",
      "text/plain": [
       "Plot with title “Título do Gráfico”"
      ]
     },
     "metadata": {
      "image/png": {
       "height": 420,
       "width": 420
      }
     },
     "output_type": "display_data"
    }
   ],
   "source": [
    "x <- 1:10\n",
    "y <- x^2\n",
    "\n",
    "plot(x,y, main='Título do Gráfico', sub='Subtítulo do Gráfico', xlab='Eixo X', ylab='Eixo Y', pch=23, cex=2, col='blue')"
   ]
  },
  {
   "cell_type": "markdown",
   "id": "b4e67d15-573a-44a5-991f-e842f21a1a5c",
   "metadata": {},
   "source": [
    "#### Exemplo 2:"
   ]
  },
  {
   "cell_type": "code",
   "execution_count": 30,
   "id": "54f80bd2-32ee-4903-9447-e5ebace59c20",
   "metadata": {},
   "outputs": [
    {
     "data": {
      "image/png": "[encoded data removed]",
      "text/plain": [
       "Plot with title “Título do Gráfico 7”"
      ]
     },
     "metadata": {
      "image/png": {
       "height": 420,
       "width": 420
      }
     },
     "output_type": "display_data"
    }
   ],
   "source": [
    "x <- 1:10\n",
    "y <- x^2\n",
    "\n",
    "par(mfrow=c(3,3))\n",
    "\n",
    "plot(x,y, main='Título do Gráfico 1', sub='Subtítulo do Gráfico 1', xlab='Eixo X', ylab='Eixo Y', type='p', col='red', bty='n');\n",
    "plot(x,y, main='Título do Gráfico 2', sub='Subtítulo do Gráfico 2', xlab='Eixo X', ylab='Eixo Y', type='l', col='blue', bty='l');\n",
    "plot(x,y, main='Título do Gráfico 3', sub='Subtítulo do Gráfico 3', xlab='Eixo X', ylab='Eixo Y', type='b', col='green', pch=3, bty='7');\n",
    "plot(x,y, main='Título do Gráfico 4', sub='Subtítulo do Gráfico 4', xlab='Eixo X', ylab='Eixo Y', type='o', col='orange', pch=0, bty='c');\n",
    "plot(x,y, main='Título do Gráfico 5', sub='Subtítulo do Gráfico 5', xlab='Eixo X', ylab='Eixo Y', type='h', col='gray', bty=']');\n",
    "plot(x,y, main='Título do Gráfico 6', sub='Subtítulo do Gráfico 6', xlab='Eixo X', ylab='Eixo Y', type='s', bty='u');\n",
    "plot(x,y, main='Título do Gráfico 7', sub='Subtítulo do Gráfico 7', xlab='Eixo X', ylab='Eixo Y', type='n', bty='o');"
   ]
  },
  {
   "cell_type": "markdown",
   "id": "f1392fd6-9a76-4b28-9250-ba6ce0d326ff",
   "metadata": {},
   "source": [
    "### Gráficos combinados"
   ]
  },
  {
   "cell_type": "markdown",
   "id": "07877c23-701a-41e3-b84b-88fdcc519e12",
   "metadata": {},
   "source": [
    "#### `points()`"
   ]
  },
  {
   "cell_type": "code",
   "execution_count": 31,
   "id": "c35f646f-35e3-467a-92e4-83d3d675eb01",
   "metadata": {},
   "outputs": [
    {
     "data": {
      "image/png": "[encoded data removed]",
      "text/plain": [
       "Plot with title “Título do Gráfico”"
      ]
     },
     "metadata": {
      "image/png": {
       "height": 420,
       "width": 420
      }
     },
     "output_type": "display_data"
    }
   ],
   "source": [
    "x <- 1:10\n",
    "y <- x^2\n",
    "z <- 4*y\n",
    "\n",
    "plot(x,y, pch=24, col='red', xlab='Eixo X', ylab='Eixo Y', main='Título do Gráfico', sub='Subtítulo do gráfico');\n",
    "points(x,z, col='blue', pch=5)\n",
    "points(x,2*z, col='green', pch=17)"
   ]
  },
  {
   "cell_type": "markdown",
   "id": "d92829a2-4cb1-489a-b371-f5bbcc0c3232",
   "metadata": {},
   "source": [
    "#### `lines()`:"
   ]
  },
  {
   "cell_type": "code",
   "execution_count": 32,
   "id": "ee7edbe7-616b-468f-ab67-94bff72beb5b",
   "metadata": {},
   "outputs": [
    {
     "data": {
      "image/png": "[encoded data removed]",
      "text/plain": [
       "Plot with title “Título do Gráfico”"
      ]
     },
     "metadata": {
      "image/png": {
       "height": 420,
       "width": 420
      }
     },
     "output_type": "display_data"
    }
   ],
   "source": [
    "x <- 1:10\n",
    "y <- x^2\n",
    "z <- 0.5*y\n",
    "\n",
    "plot(x,y, pch=1, type='b', col='red', lty=1, xlab='Eixo X', ylab='Eixo Y', main='Título do Gráfico', sub='Subtítulo do gráfico');\n",
    "lines(x,z, col='blue', pch=2, type='b', lty=2)\n",
    "lines(x,4*z, col='brown', pch=3, type='b', lty=3)"
   ]
  },
  {
   "cell_type": "markdown",
   "id": "b8b64be6-ea42-4aa8-b857-2972c6ba460c",
   "metadata": {},
   "source": [
    "### Funções e parâmetros:"
   ]
  },
  {
   "cell_type": "markdown",
   "id": "36666b1d-85ac-49ea-8661-89f6d9dbc28c",
   "metadata": {},
   "source": [
    "- xlab: Título do eixo X\n",
    "- ylab: Título do eixo Y\n",
    "- main: Título do gráfico\n",
    "- sub: Subtítulo do gráfico\n",
    "- col: Cor dos símbolos\n",
    "- cex: Tamanho dos símbolos\n",
    "- pch: Tipo dos símbolos"
   ]
  },
  {
   "cell_type": "markdown",
   "id": "32d023bf-c625-4efb-9baf-aad0d8037f0a",
   "metadata": {},
   "source": [
    "Tipos de _pch_:"
   ]
  },
  {
   "cell_type": "markdown",
   "id": "4a83f594-b8b4-4098-b051-586e97c11ced",
   "metadata": {},
   "source": [
    "![](pch.png)"
   ]
  },
  {
   "cell_type": "markdown",
   "id": "f35ad190-31e2-4d62-9969-4f0510feb43a",
   "metadata": {},
   "source": [
    "- type: Tipo de representação no gráfico\n",
    "    - “p” para pontos\n",
    "    - “l” para linhas\n",
    "    - “b” para pontos\n",
    "    - “o” para pontos e linha\n",
    "    - “h” para histograma\n",
    "    - “s” para escadas\n",
    "    - “n” para nenhuma plotagem\n",
    "- bty: Tipo de formato da caixa do gráfico\n",
    "    - o - Parâmetro padrão.\n",
    "    - l\n",
    "    - 7\n",
    "    - c\n",
    "    - u\n",
    "    - ]\n",
    "    - n\n",
    "- xlim: Limite do eixo X\n",
    "- ylim: Limite do eixo Y\n",
    "- lty: Tipo de linha"
   ]
  },
  {
   "cell_type": "markdown",
   "id": "c067a261-6c72-42a4-88e6-8c69ae48eb0d",
   "metadata": {},
   "source": [
    "Tiplos de _lty_:"
   ]
  },
  {
   "cell_type": "markdown",
   "id": "1a133a0c-ad2d-4c59-8bce-851032dd0164",
   "metadata": {},
   "source": [
    "![](lty.png)"
   ]
  },
  {
   "cell_type": "markdown",
   "id": "e2bc84c1-6595-406f-b523-fb58272f1ca2",
   "metadata": {},
   "source": [
    "- lwd: Espessura da linha\n",
    "- las: Orientação dos valores do eixo\n",
    "    - 0: X - Vertical e Y - Horizontal\n",
    "    - 1: X - Horizontal e Y - Horizontal\n",
    "    - 2: X - Horizontal e Y - Vertical\n",
    "    - 3: X - Vertical e Y - Vertical\n",
    "- font: Altera o estilo da fonte\n",
    "    - 1: Simples\n",
    "    - 2: Negrito\n",
    "    - 3: Itálico\n",
    "    - 4: Negrito e itálico\n",
    "    - 5: Símbolos\n",
    "- tcl: Altera tamanho e sentido das marcas de escala dos eixos\n",
    "    - Valores negativos produzem marcadores voltados para fora do eixo do gráfico\n",
    "    - Valores positivos geram marcadores voltados para dentro do eixo do gráfico.\n",
    "- axes: Altera visibilidade dos eixos\n",
    "- side: Define a localização para inserir informações no gráfico\n",
    "    - 1: Inferior\n",
    "    - 2: Esquerdo\n",
    "    - 3: Superior\n",
    "    - 4: Direito\n",
    "- xaxt: Altera visibilidade dos valores do eixo X\n",
    "    - s - Parâmetro padrão (exibe os valores)\n",
    "    - n - Esconde os valores\n",
    "- yaxt: Altera visibilidade dos valores do eixo Y\n",
    "    - s - Parâmetro padrão (exibe os valores)\n",
    "    - n - Esconde os valores\n",
    "- line: Altera o espaçamento entre o texto desejado e o gráfico\n",
    "    - Valores negativos fazem o texto se afastar do eixo em direção a área interna do gráfico\n",
    "    - Valores positivos fazem o texto se afastar do eixo em direção a área externa do gráfico.\n",
    "- family: Altera o tipo de fonte\n",
    "- mar: Controla a margem entre o gráfico e a janela de exibição\n",
    "    - Sintaxe: mar = c(inferior, esquerda, superior, direita)\n",
    "    - Padrão: mar = c(5.1, 4.1, 4.1, 2.1)\n",
    "- mgp: Controla a margem entre o gráfico e o título dos eixos, os rótulos e as linhas dos eixos\n",
    "    - Sintaxe: mgp = c(margem para os títulos, margem para os rótulos, margem para as linhas)\n",
    "    - Padrão: mgp = c (3,1,0)\n",
    "- mai: Controla a margem entre o gráfico e a janela de exibição, no entanto, deve ser definido em polegadas\n",
    "    - Sintaxe: mai = c(inferior, esquerda, superior, direita)\n",
    "- mfrow: Controla quantos gráficos são exibidos na mesma janela de exibição\n",
    "    - Sintaxe: mfrow = c(número de linhas, número de colunas)\n",
    "- pty: Controla a região que será utilizada para plotagem\n",
    "    - m: Região de plotagem máxima\n",
    "    - s - Região de plotagem quadrada\n",
    "- text: Insere um texto no gráfico no local desejado\n",
    "    - Sintaxe: text(posição X, posição Y, informação)\n",
    "- par: Permite ajustar configurações no gráfico\n",
    "    - Sintaxe: par(configuração 1, configuração 2, ···)\n",
    "- mtext: Permite adicionar um título personalizado ao eixo desejado\n",
    "    - Sintaxe: mtext(texto, side = valor)\n",
    "    - Obs.: O eixo deve ser especificado através do side, caso o side não seja especificado as informações serão inseridas na parte superior do gráfico\n",
    "- axis: Permite definir rótulos para valores desejados\n",
    "     - Sintaxe: axis(side = valor, at = c(), labels = c())\n",
    "- legend: Permite adicionar legendas no gráfico\n",
    "    - Sintaxe: legend(posição x, posição y, legend = legenda )"
   ]
  },
  {
   "cell_type": "markdown",
   "id": "d8e27c24-1c06-44c9-9c33-e1bb2e29f503",
   "metadata": {},
   "source": [
    "### ggplot2"
   ]
  },
  {
   "cell_type": "markdown",
   "id": "fc0a716d-3c61-4063-97e6-902f76f71d42",
   "metadata": {},
   "source": [
    "- Gráfico de barras\n",
    "     - Comando: geom_bar()\n",
    "- Gráfico de linhas\n",
    "    - Comando: geom_line()\n",
    "- Gráfico de dispersão\n",
    "    - Comando: geom_point()\n",
    "- Histograma\n",
    "    - Comando: geom_histogram()\n",
    "- Boxplot\n",
    "    - Comando: geom_boxplot()\n",
    "- Densidade\n",
    "    - Comando: geom_density()\n",
    "- Gráfico de área\n",
    "    - Comando: geom_area()"
   ]
  },
  {
   "cell_type": "code",
   "execution_count": 33,
   "id": "8ba34f81-38b5-4d56-aeee-1cc0375ead43",
   "metadata": {},
   "outputs": [],
   "source": [
    "# Ver dps, se precisar"
   ]
  },
  {
   "cell_type": "markdown",
   "id": "ab783985-d336-45de-9e2e-1ccce153c6af",
   "metadata": {},
   "source": [
    "## Extra"
   ]
  },
  {
   "cell_type": "markdown",
   "id": "41d16ca0-7553-44e1-8949-b5cdcef6a225",
   "metadata": {},
   "source": [
    "- Concatenar dados: paste()\n",
    "- Arredondar um valor: round(valor, quantidade de casas decimais após o ponto)\n",
    "- Arredondar um valor para menos: floor()\n",
    "- Arredondar um valor para mais: ceiling()\n",
    "- Tamanho da matriz ou vetor: length()\n",
    "- Descobrir o tipo de dado: typeof() ou class()\n",
    "- Criar uma tabela: data.frame()\n",
    "Obs.: Cada parâmetro passado torna-se uma coluna do data frame.\n",
    "- Quebra de linha: \\n\n",
    "- Editar dados que estão como planilha: edit()\n",
    "- Diretório atual: getwd()\n",
    "- Selecionar diretório: setwd()\n",
    "- Fazer comentário de 1 linha: #\n",
    "- Salvar: crtl+s\n",
    "- Comentar/Remover comentário de 1 ou mais linhas: crtl+shift+c\n",
    "- Executar: crtl+enter\n",
    "- Limpar console: crtl+l\n",
    "- Documentação de uma função: ?nome_da_função ou help(nome_da_função)\n",
    "- Pesquisar sobre alguma função: ??nome\n",
    "- Alfabeto completo minúsculo: letters\n",
    "- Alfabeto completo maiúsculo: LETTERS"
   ]
  }
 ],
 "metadata": {
  "kernelspec": {
   "display_name": "R",
   "language": "R",
   "name": "ir"
  },
  "language_info": {
   "codemirror_mode": "r",
   "file_extension": ".r",
   "mimetype": "text/x-r-source",
   "name": "R",
   "pygments_lexer": "r",
   "version": "4.1.1"
  },
  "toc-autonumbering": true,
  "toc-showcode": false,
  "toc-showmarkdowntxt": false,
  "toc-showtags": false
 },
 "nbformat": 4,
 "nbformat_minor": 5
}
